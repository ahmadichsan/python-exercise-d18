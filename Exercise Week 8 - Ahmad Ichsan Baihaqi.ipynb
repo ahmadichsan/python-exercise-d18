{
 "cells": [
  {
   "cell_type": "markdown",
   "id": "c69d9051",
   "metadata": {},
   "source": [
    "**Exercise Week 8**\n",
    "\n",
    "**Author: Ahmad Ichsan Baihaqi**\n",
    "\n",
    "**Email: ahmadichsanbaihaqi@gmail.com**"
   ]
  },
  {
   "cell_type": "markdown",
   "id": "27334c0c",
   "metadata": {},
   "source": [
    "#### For both questions, you can import any library."
   ]
  },
  {
   "cell_type": "markdown",
   "id": "4c6bc1b6",
   "metadata": {},
   "source": [
    "### Question 1: Only One Extra Curricular Activity"
   ]
  },
  {
   "cell_type": "markdown",
   "id": "acf1a66b",
   "metadata": {},
   "source": [
    "Given a list of students who joined Science Club, Sports Club, and History Club. Your output should be telling us the names of students who only joins 1 club. Your function name will be `one_activity_finder`.\n",
    "\n",
    "#### Example 1:\n",
    "\n",
    "- Science = ['Peter', 'Tony', 'Rhodey', 'Bruce']\n",
    "- Sports = ['Steve, 'Peter', 'Thor', 'Natasha', 'Clint', 'Bruce']\n",
    "- History = ['Steve', 'Thor', 'Natasha', 'Nick]\n",
    "\n",
    "As we can see, a few students joined more than 1 club. The only students who only joined 1 club activities are Tony, Rhodey, Clint, and Nick.\n",
    "\n",
    "`one_activity_finder(Science, Sports, History)` will give the output:\n",
    "\n",
    "'Tony', 'Rhodey', 'Clint', 'Nick'\n",
    "\n",
    "\n",
    "#### Example 2:\n",
    "\n",
    "- Science = ['Bruce', 'Victor', 'Barry', 'Lex', 'Hal']\n",
    "- Sports = ['Bruce', 'Victor', 'Barry', 'Clark', 'Diana']\n",
    "- History = ['Diana', 'Arthur', 'Bruce']\n",
    "\n",
    "The students who only join 1 club are: 'Lex', 'Hal', 'Clark', 'Arthur'"
   ]
  },
  {
   "cell_type": "code",
   "execution_count": 29,
   "id": "23be2270",
   "metadata": {},
   "outputs": [],
   "source": [
    "def one_activity_finder(Science, Sports, History):\n",
    "    my_list = [*Science, *Sports, *History]\n",
    "    \n",
    "    set_list = list(set(my_list))\n",
    "\n",
    "    only_one = []\n",
    "\n",
    "    for x in set_list:\n",
    "        find = len([item for item in my_list if x == item])\n",
    "        \n",
    "        if (find > 1):\n",
    "            continue\n",
    "            \n",
    "        only_one.append(x)\n",
    "            \n",
    "    return only_one"
   ]
  },
  {
   "cell_type": "code",
   "execution_count": 30,
   "id": "1217f70d",
   "metadata": {},
   "outputs": [
    {
     "data": {
      "text/plain": [
       "['Lex', 'Arthur', 'Hal', 'Clark']"
      ]
     },
     "execution_count": 30,
     "metadata": {},
     "output_type": "execute_result"
    }
   ],
   "source": [
    "science_data = ['Bruce', 'Victor', 'Barry', 'Lex', 'Hal']\n",
    "sports_data = ['Bruce', 'Victor', 'Barry', 'Clark', 'Diana']\n",
    "history_data = ['Diana', 'Arthur', 'Bruce']\n",
    "\n",
    "one_activity_finder(science_data, sports_data, history_data)"
   ]
  },
  {
   "cell_type": "code",
   "execution_count": 31,
   "id": "0455d220",
   "metadata": {},
   "outputs": [
    {
     "data": {
      "text/plain": [
       "['Rhodey', 'Tony', 'Clint', 'Nick']"
      ]
     },
     "execution_count": 31,
     "metadata": {},
     "output_type": "execute_result"
    }
   ],
   "source": [
    "science_data = ['Peter', 'Tony', 'Rhodey', 'Bruce']\n",
    "sports_data = ['Steve', 'Peter', 'Thor', 'Natasha', 'Clint', 'Bruce']\n",
    "history_data = ['Steve', 'Thor', 'Natasha', 'Nick']\n",
    "           \n",
    "one_activity_finder(science_data, sports_data, history_data)"
   ]
  },
  {
   "cell_type": "markdown",
   "id": "82df63c0",
   "metadata": {},
   "source": [
    "### Question 2: Three Most Common Letter"
   ]
  },
  {
   "cell_type": "markdown",
   "id": "23c0f64a",
   "metadata": {},
   "source": [
    "Given one string. Print out the 3 most common letter in this order:\n",
    "- Print the most common letter first\n",
    "- Then, move to the second most common letter\n",
    "- If there is a tie, refer to the alphabetical order and choose the first one to appear first\n",
    "\n",
    "Your function name is `top_letter`\n",
    "\n",
    "#### Example 1: \n",
    "\n",
    "Input = 'ddeeeeffgh'\n",
    "\n",
    "Output = 'edf' \n",
    "\n",
    "This is because 'e' appears the most, then the second place is a 'tie' between 'd' and 'f'. We should look to the alphabetical order, and since 'd' appears before 'f', we print 'd' first then 'f'.\n",
    "\n",
    "\n",
    "#### Example 2:\n",
    "\n",
    "Input = 'ddeeeeffgghh'\n",
    "\n",
    "Output = 'edf'\n",
    "\n",
    "This is because 'e' appears the most, then the second place is a 'tie' between 'd', 'f', 'g', and 'h'. We should look to the alphabetical order, and since 'd' appears before 'f', we print 'd' then 'f'. \n",
    "\n",
    "Wait, why don't we print 'g' and 'h' too? Because we only want TOP 3 LETTERS. This is the challenge. \n",
    "\n",
    "#### Example 3:\n",
    "\n",
    "Input = 'aabbbbcdefg'\n",
    "\n",
    "Output = 'bac'\n",
    "\n",
    "This is because 'b' appears the most, then the second most common letter is 'a', and the third place is a tie between 'c', 'd', 'e', 'f', 'g'. We only choose 'c', because its the earliest letter in the alphabet, and since we only want 3 letters, we only can choose 'c'. "
   ]
  },
  {
   "cell_type": "code",
   "execution_count": 34,
   "id": "dd2c6aa0",
   "metadata": {},
   "outputs": [],
   "source": [
    "def top_letter(input_string):\n",
    "    my_list = list(input_string)\n",
    "    \n",
    "    set_list = list(sorted(set(my_list)))\n",
    "\n",
    "    counter = []\n",
    "\n",
    "    for x in set_list:\n",
    "        find = len([item for item in my_list if x == item])\n",
    "        \n",
    "        counter.append(find)\n",
    "        \n",
    "    sorted_counter = sorted(counter, reverse=True)\n",
    "    \n",
    "    top_three_value = sorted_counter[:3]\n",
    "\n",
    "    top_three_words = []\n",
    "    \n",
    "    for x in top_three_value:\n",
    "        index = counter.index(x)\n",
    "        \n",
    "        top_three_words.append(set_list[index])\n",
    "        \n",
    "        counter.pop(index)\n",
    "        set_list.pop(index)\n",
    "    \n",
    "    return ''.join(map(str, top_three_words))"
   ]
  },
  {
   "cell_type": "code",
   "execution_count": 35,
   "id": "87a135ca",
   "metadata": {},
   "outputs": [
    {
     "data": {
      "text/plain": [
       "'edf'"
      ]
     },
     "execution_count": 35,
     "metadata": {},
     "output_type": "execute_result"
    }
   ],
   "source": [
    "top_letter('ddeeeeffgh')"
   ]
  },
  {
   "cell_type": "code",
   "execution_count": 36,
   "id": "7ec8700a",
   "metadata": {},
   "outputs": [
    {
     "data": {
      "text/plain": [
       "'edf'"
      ]
     },
     "execution_count": 36,
     "metadata": {},
     "output_type": "execute_result"
    }
   ],
   "source": [
    "top_letter('ddeeeeffgghh')"
   ]
  },
  {
   "cell_type": "code",
   "execution_count": 37,
   "id": "a58592bf",
   "metadata": {},
   "outputs": [
    {
     "data": {
      "text/plain": [
       "'bac'"
      ]
     },
     "execution_count": 37,
     "metadata": {},
     "output_type": "execute_result"
    }
   ],
   "source": [
    "top_letter('aabbbbcdefg')"
   ]
  },
  {
   "cell_type": "code",
   "execution_count": 38,
   "id": "d28d1ee8",
   "metadata": {},
   "outputs": [
    {
     "data": {
      "text/plain": [
       "'adb'"
      ]
     },
     "execution_count": 38,
     "metadata": {},
     "output_type": "execute_result"
    }
   ],
   "source": [
    "top_letter('aaadddccbb')"
   ]
  }
 ],
 "metadata": {
  "kernelspec": {
   "display_name": "Python 3",
   "language": "python",
   "name": "python3"
  },
  "language_info": {
   "codemirror_mode": {
    "name": "ipython",
    "version": 3
   },
   "file_extension": ".py",
   "mimetype": "text/x-python",
   "name": "python",
   "nbconvert_exporter": "python",
   "pygments_lexer": "ipython3",
   "version": "3.8.2"
  }
 },
 "nbformat": 4,
 "nbformat_minor": 5
}
